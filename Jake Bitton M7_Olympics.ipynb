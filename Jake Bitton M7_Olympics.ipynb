{
 "cells": [
  {
   "cell_type": "markdown",
   "metadata": {
    "id": "0wB3bGTjGyoF"
   },
   "source": [
    "![](https://upload.wikimedia.org/wikipedia/commons/thumb/7/77/IOC_Logo.svg/2341px-IOC_Logo.svg.png)\n",
    "\n",
    "# Introduction\n",
    "\n",
    "Welcome to your first day as an analyst working for the IOC! The IOC is at the very heart of world sport, supporting every Olympic Movement stakeholder, promoting Olympism worldwide, and overseeing the regular celebration of the Olympic Games.\n",
    "\n",
    "For a moment of glory on the medalist podium, elite athletes dedicate *everything* to their sport. Olympics medalists from 1896 through 2016 comprise the dataset you'll be working with. Who are the youngest and oldest medalists of all time? Are there physical differences between Summer Olympics medalists and Winter Olympics medalists? You're about to use your data coding chops to find out!\n",
    "\n",
    "You'll start this Milestone assignment by cleaning and filtering the data. So many of your Python skills that you've learned so far will be at play. Are you up for it? Let's go!\n",
    "\n",
    "### Dataset Description\n",
    "\n",
    "The dataset is stored in a .csv file named `olympics.csv`. It contains the following columns:\n",
    "\n",
    "* **ID**: A unique identifying number of each athlete\n",
    "* **Name**: The name of each athlete\n",
    "* **Sex**: M or F\n",
    "* **Age**: The age of an athlete, in years, at the time they competed.\n",
    "* **Height**: The height of an athlete, in centimeters\n",
    "* **Weight**: The weight of an athlete, in kilograms\n",
    "* **Team**: The name of the athlete’s team. Not always the name of a country.\n",
    "* **NOC**: National Olympic Committee’s 3 letter code\n",
    "* **Games**: Year and season\n",
    "* **Season**: Summer or Winter\n",
    "* **City**: Host city\n",
    "* **Sport**: The sport or category of an olympic event/activity\n",
    "* **Event**: specific event within a sport, e.g. Men’s 400 meters breaststroke.\n",
    "* **Medal**: Gold, Silver, Bronze\n",
    "* **Region**: Name of athlete’s country\n",
    "\n"
   ]
  },
  {
   "cell_type": "markdown",
   "metadata": {
    "id": "Gm4vWqYdMH5s"
   },
   "source": [
    "# Task 1: Data Inspection\n",
    "\n",
    "![](https://media.giphy.com/media/42wQXwITfQbDGKqUP7/giphy.gif)"
   ]
  },
  {
   "cell_type": "code",
   "execution_count": 1,
   "metadata": {
    "id": "TgSpacNhGp1b"
   },
   "outputs": [],
   "source": [
    "# import the pandas library\n",
    "import pandas as pd"
   ]
  },
  {
   "cell_type": "code",
   "execution_count": 2,
   "metadata": {
    "id": "N41nUAsDGp1e"
   },
   "outputs": [],
   "source": [
    "# Load in the data\n",
    "olympics = pd.read_csv('datasets/olympics.csv')"
   ]
  },
  {
   "cell_type": "code",
   "execution_count": 4,
   "metadata": {
    "id": "C1SZ71lXGp1f"
   },
   "outputs": [
    {
     "data": {
      "text/html": [
       "<div>\n",
       "<style scoped>\n",
       "    .dataframe tbody tr th:only-of-type {\n",
       "        vertical-align: middle;\n",
       "    }\n",
       "\n",
       "    .dataframe tbody tr th {\n",
       "        vertical-align: top;\n",
       "    }\n",
       "\n",
       "    .dataframe thead th {\n",
       "        text-align: right;\n",
       "    }\n",
       "</style>\n",
       "<table border=\"1\" class=\"dataframe\">\n",
       "  <thead>\n",
       "    <tr style=\"text-align: right;\">\n",
       "      <th></th>\n",
       "      <th>ID</th>\n",
       "      <th>Name</th>\n",
       "      <th>Sex</th>\n",
       "      <th>Age</th>\n",
       "      <th>Height</th>\n",
       "      <th>Weight</th>\n",
       "      <th>Team</th>\n",
       "      <th>NOC</th>\n",
       "      <th>Games</th>\n",
       "      <th>Year</th>\n",
       "      <th>Season</th>\n",
       "      <th>City</th>\n",
       "      <th>Sport</th>\n",
       "      <th>Event</th>\n",
       "      <th>Medal</th>\n",
       "      <th>region</th>\n",
       "    </tr>\n",
       "  </thead>\n",
       "  <tbody>\n",
       "    <tr>\n",
       "      <th>0</th>\n",
       "      <td>4</td>\n",
       "      <td>Edgar Lindenau Aabye</td>\n",
       "      <td>M</td>\n",
       "      <td>34.0</td>\n",
       "      <td>NaN</td>\n",
       "      <td>NaN</td>\n",
       "      <td>Denmark/Sweden</td>\n",
       "      <td>DEN</td>\n",
       "      <td>1900 Summer</td>\n",
       "      <td>1900</td>\n",
       "      <td>Summer</td>\n",
       "      <td>Paris</td>\n",
       "      <td>Tug-Of-War</td>\n",
       "      <td>Tug-Of-War Men's Tug-Of-War</td>\n",
       "      <td>Gold</td>\n",
       "      <td>Denmark</td>\n",
       "    </tr>\n",
       "    <tr>\n",
       "      <th>1</th>\n",
       "      <td>15</td>\n",
       "      <td>Arvo Ossian Aaltonen</td>\n",
       "      <td>M</td>\n",
       "      <td>30.0</td>\n",
       "      <td>NaN</td>\n",
       "      <td>NaN</td>\n",
       "      <td>Finland</td>\n",
       "      <td>FIN</td>\n",
       "      <td>1920 Summer</td>\n",
       "      <td>1920</td>\n",
       "      <td>Summer</td>\n",
       "      <td>Antwerpen</td>\n",
       "      <td>Swimming</td>\n",
       "      <td>Swimming Men's 200 metres Breaststroke</td>\n",
       "      <td>Bronze</td>\n",
       "      <td>Finland</td>\n",
       "    </tr>\n",
       "    <tr>\n",
       "      <th>2</th>\n",
       "      <td>15</td>\n",
       "      <td>Arvo Ossian Aaltonen</td>\n",
       "      <td>M</td>\n",
       "      <td>30.0</td>\n",
       "      <td>NaN</td>\n",
       "      <td>NaN</td>\n",
       "      <td>Finland</td>\n",
       "      <td>FIN</td>\n",
       "      <td>1920 Summer</td>\n",
       "      <td>1920</td>\n",
       "      <td>Summer</td>\n",
       "      <td>Antwerpen</td>\n",
       "      <td>Swimming</td>\n",
       "      <td>Swimming Men's 400 metres Breaststroke</td>\n",
       "      <td>Bronze</td>\n",
       "      <td>Finland</td>\n",
       "    </tr>\n",
       "    <tr>\n",
       "      <th>3</th>\n",
       "      <td>16</td>\n",
       "      <td>Juhamatti Tapio Aaltonen</td>\n",
       "      <td>M</td>\n",
       "      <td>28.0</td>\n",
       "      <td>184.0</td>\n",
       "      <td>85.0</td>\n",
       "      <td>Finland</td>\n",
       "      <td>FIN</td>\n",
       "      <td>2014 Winter</td>\n",
       "      <td>2014</td>\n",
       "      <td>Winter</td>\n",
       "      <td>Sochi</td>\n",
       "      <td>Ice Hockey</td>\n",
       "      <td>Ice Hockey Men's Ice Hockey</td>\n",
       "      <td>Bronze</td>\n",
       "      <td>Finland</td>\n",
       "    </tr>\n",
       "    <tr>\n",
       "      <th>4</th>\n",
       "      <td>17</td>\n",
       "      <td>Paavo Johannes Aaltonen</td>\n",
       "      <td>M</td>\n",
       "      <td>28.0</td>\n",
       "      <td>175.0</td>\n",
       "      <td>64.0</td>\n",
       "      <td>Finland</td>\n",
       "      <td>FIN</td>\n",
       "      <td>1948 Summer</td>\n",
       "      <td>1948</td>\n",
       "      <td>Summer</td>\n",
       "      <td>London</td>\n",
       "      <td>Gymnastics</td>\n",
       "      <td>Gymnastics Men's Individual All-Around</td>\n",
       "      <td>Bronze</td>\n",
       "      <td>Finland</td>\n",
       "    </tr>\n",
       "  </tbody>\n",
       "</table>\n",
       "</div>"
      ],
      "text/plain": [
       "   ID                      Name Sex   Age  Height  Weight            Team  \\\n",
       "0   4      Edgar Lindenau Aabye   M  34.0     NaN     NaN  Denmark/Sweden   \n",
       "1  15      Arvo Ossian Aaltonen   M  30.0     NaN     NaN         Finland   \n",
       "2  15      Arvo Ossian Aaltonen   M  30.0     NaN     NaN         Finland   \n",
       "3  16  Juhamatti Tapio Aaltonen   M  28.0   184.0    85.0         Finland   \n",
       "4  17   Paavo Johannes Aaltonen   M  28.0   175.0    64.0         Finland   \n",
       "\n",
       "   NOC        Games  Year  Season       City       Sport  \\\n",
       "0  DEN  1900 Summer  1900  Summer      Paris  Tug-Of-War   \n",
       "1  FIN  1920 Summer  1920  Summer  Antwerpen    Swimming   \n",
       "2  FIN  1920 Summer  1920  Summer  Antwerpen    Swimming   \n",
       "3  FIN  2014 Winter  2014  Winter      Sochi  Ice Hockey   \n",
       "4  FIN  1948 Summer  1948  Summer     London  Gymnastics   \n",
       "\n",
       "                                    Event   Medal   region  \n",
       "0             Tug-Of-War Men's Tug-Of-War    Gold  Denmark  \n",
       "1  Swimming Men's 200 metres Breaststroke  Bronze  Finland  \n",
       "2  Swimming Men's 400 metres Breaststroke  Bronze  Finland  \n",
       "3             Ice Hockey Men's Ice Hockey  Bronze  Finland  \n",
       "4  Gymnastics Men's Individual All-Around  Bronze  Finland  "
      ]
     },
     "execution_count": 4,
     "metadata": {},
     "output_type": "execute_result"
    }
   ],
   "source": [
    "# Preview DataFrame\n",
    "olympics.head()"
   ]
  },
  {
   "cell_type": "code",
   "execution_count": 5,
   "metadata": {
    "id": "PPjVwwKKGp1h"
   },
   "outputs": [
    {
     "data": {
      "text/plain": [
       "(39783, 16)"
      ]
     },
     "execution_count": 5,
     "metadata": {},
     "output_type": "execute_result"
    }
   ],
   "source": [
    "# Inspect the numbers of rows and columns\n",
    "olympics.shape"
   ]
  },
  {
   "cell_type": "code",
   "execution_count": 8,
   "metadata": {
    "id": "3VoFS4qhGp1h"
   },
   "outputs": [
    {
     "data": {
      "text/plain": [
       "Index(['ID', 'Name', 'Sex', 'Age', 'Height', 'Weight', 'Team', 'NOC', 'Games',\n",
       "       'Year', 'Season', 'City', 'Sport', 'Event', 'Medal', 'region'],\n",
       "      dtype='object')"
      ]
     },
     "execution_count": 8,
     "metadata": {},
     "output_type": "execute_result"
    }
   ],
   "source": [
    "# Inspect column names\n",
    "olympics.columns"
   ]
  },
  {
   "cell_type": "code",
   "execution_count": 10,
   "metadata": {
    "id": "9AhuNK0HGp1i"
   },
   "outputs": [
    {
     "name": "stdout",
     "output_type": "stream",
     "text": [
      "<class 'pandas.core.frame.DataFrame'>\n",
      "RangeIndex: 39783 entries, 0 to 39782\n",
      "Data columns (total 16 columns):\n",
      " #   Column  Non-Null Count  Dtype  \n",
      "---  ------  --------------  -----  \n",
      " 0   ID      39783 non-null  int64  \n",
      " 1   Name    39783 non-null  object \n",
      " 2   Sex     39783 non-null  object \n",
      " 3   Age     39051 non-null  float64\n",
      " 4   Height  31072 non-null  float64\n",
      " 5   Weight  30456 non-null  float64\n",
      " 6   Team    39783 non-null  object \n",
      " 7   NOC     39783 non-null  object \n",
      " 8   Games   39783 non-null  object \n",
      " 9   Year    39783 non-null  int64  \n",
      " 10  Season  39783 non-null  object \n",
      " 11  City    39783 non-null  object \n",
      " 12  Sport   39783 non-null  object \n",
      " 13  Event   39783 non-null  object \n",
      " 14  Medal   39783 non-null  object \n",
      " 15  region  39774 non-null  object \n",
      "dtypes: float64(3), int64(2), object(11)\n",
      "memory usage: 4.9+ MB\n"
     ]
    }
   ],
   "source": [
    "# Inspect column data types, memory usage, etc.\n",
    "olympics.info()"
   ]
  },
  {
   "cell_type": "code",
   "execution_count": 11,
   "metadata": {
    "id": "f1mLllODGp1i"
   },
   "outputs": [
    {
     "data": {
      "text/html": [
       "<div>\n",
       "<style scoped>\n",
       "    .dataframe tbody tr th:only-of-type {\n",
       "        vertical-align: middle;\n",
       "    }\n",
       "\n",
       "    .dataframe tbody tr th {\n",
       "        vertical-align: top;\n",
       "    }\n",
       "\n",
       "    .dataframe thead th {\n",
       "        text-align: right;\n",
       "    }\n",
       "</style>\n",
       "<table border=\"1\" class=\"dataframe\">\n",
       "  <thead>\n",
       "    <tr style=\"text-align: right;\">\n",
       "      <th></th>\n",
       "      <th>ID</th>\n",
       "      <th>Age</th>\n",
       "      <th>Height</th>\n",
       "      <th>Weight</th>\n",
       "      <th>Year</th>\n",
       "    </tr>\n",
       "  </thead>\n",
       "  <tbody>\n",
       "    <tr>\n",
       "      <th>count</th>\n",
       "      <td>39783.000000</td>\n",
       "      <td>39051.000000</td>\n",
       "      <td>31072.000000</td>\n",
       "      <td>30456.000000</td>\n",
       "      <td>39783.000000</td>\n",
       "    </tr>\n",
       "    <tr>\n",
       "      <th>mean</th>\n",
       "      <td>69407.051806</td>\n",
       "      <td>25.925175</td>\n",
       "      <td>177.554197</td>\n",
       "      <td>73.770680</td>\n",
       "      <td>1973.943845</td>\n",
       "    </tr>\n",
       "    <tr>\n",
       "      <th>std</th>\n",
       "      <td>38849.980737</td>\n",
       "      <td>5.914026</td>\n",
       "      <td>10.893723</td>\n",
       "      <td>15.016025</td>\n",
       "      <td>33.822857</td>\n",
       "    </tr>\n",
       "    <tr>\n",
       "      <th>min</th>\n",
       "      <td>4.000000</td>\n",
       "      <td>10.000000</td>\n",
       "      <td>136.000000</td>\n",
       "      <td>28.000000</td>\n",
       "      <td>1896.000000</td>\n",
       "    </tr>\n",
       "    <tr>\n",
       "      <th>25%</th>\n",
       "      <td>36494.000000</td>\n",
       "      <td>22.000000</td>\n",
       "      <td>170.000000</td>\n",
       "      <td>63.000000</td>\n",
       "      <td>1952.000000</td>\n",
       "    </tr>\n",
       "    <tr>\n",
       "      <th>50%</th>\n",
       "      <td>68990.000000</td>\n",
       "      <td>25.000000</td>\n",
       "      <td>178.000000</td>\n",
       "      <td>73.000000</td>\n",
       "      <td>1984.000000</td>\n",
       "    </tr>\n",
       "    <tr>\n",
       "      <th>75%</th>\n",
       "      <td>103461.500000</td>\n",
       "      <td>29.000000</td>\n",
       "      <td>185.000000</td>\n",
       "      <td>83.000000</td>\n",
       "      <td>2002.000000</td>\n",
       "    </tr>\n",
       "    <tr>\n",
       "      <th>max</th>\n",
       "      <td>135563.000000</td>\n",
       "      <td>73.000000</td>\n",
       "      <td>223.000000</td>\n",
       "      <td>182.000000</td>\n",
       "      <td>2016.000000</td>\n",
       "    </tr>\n",
       "  </tbody>\n",
       "</table>\n",
       "</div>"
      ],
      "text/plain": [
       "                  ID           Age        Height        Weight          Year\n",
       "count   39783.000000  39051.000000  31072.000000  30456.000000  39783.000000\n",
       "mean    69407.051806     25.925175    177.554197     73.770680   1973.943845\n",
       "std     38849.980737      5.914026     10.893723     15.016025     33.822857\n",
       "min         4.000000     10.000000    136.000000     28.000000   1896.000000\n",
       "25%     36494.000000     22.000000    170.000000     63.000000   1952.000000\n",
       "50%     68990.000000     25.000000    178.000000     73.000000   1984.000000\n",
       "75%    103461.500000     29.000000    185.000000     83.000000   2002.000000\n",
       "max    135563.000000     73.000000    223.000000    182.000000   2016.000000"
      ]
     },
     "execution_count": 11,
     "metadata": {},
     "output_type": "execute_result"
    }
   ],
   "source": [
    "# Display a statistical summary of the data\n",
    "olympics.describe()"
   ]
  },
  {
   "cell_type": "code",
   "execution_count": 15,
   "metadata": {
    "id": "jS02gtfNGp1j"
   },
   "outputs": [
    {
     "name": "stdout",
     "output_type": "stream",
     "text": [
      "0          Gold\n",
      "1        Bronze\n",
      "2        Bronze\n",
      "3        Bronze\n",
      "4        Bronze\n",
      "          ...  \n",
      "39778    Silver\n",
      "39779    Bronze\n",
      "39780    Bronze\n",
      "39781    Bronze\n",
      "39782    Silver\n",
      "Name: Medal, Length: 39783, dtype: object\n"
     ]
    }
   ],
   "source": [
    "# What types of medals are there?\n",
    "print(olympics.Medal)"
   ]
  },
  {
   "cell_type": "markdown",
   "metadata": {
    "id": "SQ8I76OxGp1j"
   },
   "source": [
    "# Task 2: Data Cleaning\n",
    "\n",
    "![](https://media.giphy.com/media/10zsjaH4g0GgmY/giphy.gif)"
   ]
  },
  {
   "cell_type": "code",
   "execution_count": 16,
   "metadata": {
    "id": "LRX6j6NRGp1k"
   },
   "outputs": [
    {
     "data": {
      "text/html": [
       "<div>\n",
       "<style scoped>\n",
       "    .dataframe tbody tr th:only-of-type {\n",
       "        vertical-align: middle;\n",
       "    }\n",
       "\n",
       "    .dataframe tbody tr th {\n",
       "        vertical-align: top;\n",
       "    }\n",
       "\n",
       "    .dataframe thead th {\n",
       "        text-align: right;\n",
       "    }\n",
       "</style>\n",
       "<table border=\"1\" class=\"dataframe\">\n",
       "  <thead>\n",
       "    <tr style=\"text-align: right;\">\n",
       "      <th></th>\n",
       "      <th>ID</th>\n",
       "      <th>Name</th>\n",
       "      <th>Sex</th>\n",
       "      <th>Age</th>\n",
       "      <th>Height</th>\n",
       "      <th>Weight</th>\n",
       "      <th>Team</th>\n",
       "      <th>CountryCode</th>\n",
       "      <th>Games</th>\n",
       "      <th>Year</th>\n",
       "      <th>Season</th>\n",
       "      <th>City</th>\n",
       "      <th>Sport</th>\n",
       "      <th>Event</th>\n",
       "      <th>Medal</th>\n",
       "      <th>Country</th>\n",
       "    </tr>\n",
       "  </thead>\n",
       "  <tbody>\n",
       "    <tr>\n",
       "      <th>0</th>\n",
       "      <td>4</td>\n",
       "      <td>Edgar Lindenau Aabye</td>\n",
       "      <td>M</td>\n",
       "      <td>34.0</td>\n",
       "      <td>NaN</td>\n",
       "      <td>NaN</td>\n",
       "      <td>Denmark/Sweden</td>\n",
       "      <td>DEN</td>\n",
       "      <td>1900 Summer</td>\n",
       "      <td>1900</td>\n",
       "      <td>Summer</td>\n",
       "      <td>Paris</td>\n",
       "      <td>Tug-Of-War</td>\n",
       "      <td>Tug-Of-War Men's Tug-Of-War</td>\n",
       "      <td>Gold</td>\n",
       "      <td>Denmark</td>\n",
       "    </tr>\n",
       "    <tr>\n",
       "      <th>1</th>\n",
       "      <td>15</td>\n",
       "      <td>Arvo Ossian Aaltonen</td>\n",
       "      <td>M</td>\n",
       "      <td>30.0</td>\n",
       "      <td>NaN</td>\n",
       "      <td>NaN</td>\n",
       "      <td>Finland</td>\n",
       "      <td>FIN</td>\n",
       "      <td>1920 Summer</td>\n",
       "      <td>1920</td>\n",
       "      <td>Summer</td>\n",
       "      <td>Antwerpen</td>\n",
       "      <td>Swimming</td>\n",
       "      <td>Swimming Men's 200 metres Breaststroke</td>\n",
       "      <td>Bronze</td>\n",
       "      <td>Finland</td>\n",
       "    </tr>\n",
       "    <tr>\n",
       "      <th>2</th>\n",
       "      <td>15</td>\n",
       "      <td>Arvo Ossian Aaltonen</td>\n",
       "      <td>M</td>\n",
       "      <td>30.0</td>\n",
       "      <td>NaN</td>\n",
       "      <td>NaN</td>\n",
       "      <td>Finland</td>\n",
       "      <td>FIN</td>\n",
       "      <td>1920 Summer</td>\n",
       "      <td>1920</td>\n",
       "      <td>Summer</td>\n",
       "      <td>Antwerpen</td>\n",
       "      <td>Swimming</td>\n",
       "      <td>Swimming Men's 400 metres Breaststroke</td>\n",
       "      <td>Bronze</td>\n",
       "      <td>Finland</td>\n",
       "    </tr>\n",
       "    <tr>\n",
       "      <th>3</th>\n",
       "      <td>16</td>\n",
       "      <td>Juhamatti Tapio Aaltonen</td>\n",
       "      <td>M</td>\n",
       "      <td>28.0</td>\n",
       "      <td>184.0</td>\n",
       "      <td>85.0</td>\n",
       "      <td>Finland</td>\n",
       "      <td>FIN</td>\n",
       "      <td>2014 Winter</td>\n",
       "      <td>2014</td>\n",
       "      <td>Winter</td>\n",
       "      <td>Sochi</td>\n",
       "      <td>Ice Hockey</td>\n",
       "      <td>Ice Hockey Men's Ice Hockey</td>\n",
       "      <td>Bronze</td>\n",
       "      <td>Finland</td>\n",
       "    </tr>\n",
       "    <tr>\n",
       "      <th>4</th>\n",
       "      <td>17</td>\n",
       "      <td>Paavo Johannes Aaltonen</td>\n",
       "      <td>M</td>\n",
       "      <td>28.0</td>\n",
       "      <td>175.0</td>\n",
       "      <td>64.0</td>\n",
       "      <td>Finland</td>\n",
       "      <td>FIN</td>\n",
       "      <td>1948 Summer</td>\n",
       "      <td>1948</td>\n",
       "      <td>Summer</td>\n",
       "      <td>London</td>\n",
       "      <td>Gymnastics</td>\n",
       "      <td>Gymnastics Men's Individual All-Around</td>\n",
       "      <td>Bronze</td>\n",
       "      <td>Finland</td>\n",
       "    </tr>\n",
       "    <tr>\n",
       "      <th>...</th>\n",
       "      <td>...</td>\n",
       "      <td>...</td>\n",
       "      <td>...</td>\n",
       "      <td>...</td>\n",
       "      <td>...</td>\n",
       "      <td>...</td>\n",
       "      <td>...</td>\n",
       "      <td>...</td>\n",
       "      <td>...</td>\n",
       "      <td>...</td>\n",
       "      <td>...</td>\n",
       "      <td>...</td>\n",
       "      <td>...</td>\n",
       "      <td>...</td>\n",
       "      <td>...</td>\n",
       "      <td>...</td>\n",
       "    </tr>\n",
       "    <tr>\n",
       "      <th>39778</th>\n",
       "      <td>135553</td>\n",
       "      <td>Galina Ivanovna Zybina (-Fyodorova)</td>\n",
       "      <td>F</td>\n",
       "      <td>25.0</td>\n",
       "      <td>168.0</td>\n",
       "      <td>80.0</td>\n",
       "      <td>Soviet Union</td>\n",
       "      <td>URS</td>\n",
       "      <td>1956 Summer</td>\n",
       "      <td>1956</td>\n",
       "      <td>Summer</td>\n",
       "      <td>Melbourne</td>\n",
       "      <td>Athletics</td>\n",
       "      <td>Athletics Women's Shot Put</td>\n",
       "      <td>Silver</td>\n",
       "      <td>Russia</td>\n",
       "    </tr>\n",
       "    <tr>\n",
       "      <th>39779</th>\n",
       "      <td>135553</td>\n",
       "      <td>Galina Ivanovna Zybina (-Fyodorova)</td>\n",
       "      <td>F</td>\n",
       "      <td>33.0</td>\n",
       "      <td>168.0</td>\n",
       "      <td>80.0</td>\n",
       "      <td>Soviet Union</td>\n",
       "      <td>URS</td>\n",
       "      <td>1964 Summer</td>\n",
       "      <td>1964</td>\n",
       "      <td>Summer</td>\n",
       "      <td>Tokyo</td>\n",
       "      <td>Athletics</td>\n",
       "      <td>Athletics Women's Shot Put</td>\n",
       "      <td>Bronze</td>\n",
       "      <td>Russia</td>\n",
       "    </tr>\n",
       "    <tr>\n",
       "      <th>39780</th>\n",
       "      <td>135554</td>\n",
       "      <td>Bogusaw Zych</td>\n",
       "      <td>M</td>\n",
       "      <td>28.0</td>\n",
       "      <td>182.0</td>\n",
       "      <td>82.0</td>\n",
       "      <td>Poland</td>\n",
       "      <td>POL</td>\n",
       "      <td>1980 Summer</td>\n",
       "      <td>1980</td>\n",
       "      <td>Summer</td>\n",
       "      <td>Moskva</td>\n",
       "      <td>Fencing</td>\n",
       "      <td>Fencing Men's Foil, Team</td>\n",
       "      <td>Bronze</td>\n",
       "      <td>Poland</td>\n",
       "    </tr>\n",
       "    <tr>\n",
       "      <th>39781</th>\n",
       "      <td>135563</td>\n",
       "      <td>Olesya Nikolayevna Zykina</td>\n",
       "      <td>F</td>\n",
       "      <td>19.0</td>\n",
       "      <td>171.0</td>\n",
       "      <td>64.0</td>\n",
       "      <td>Russia</td>\n",
       "      <td>RUS</td>\n",
       "      <td>2000 Summer</td>\n",
       "      <td>2000</td>\n",
       "      <td>Summer</td>\n",
       "      <td>Sydney</td>\n",
       "      <td>Athletics</td>\n",
       "      <td>Athletics Women's 4 x 400 metres Relay</td>\n",
       "      <td>Bronze</td>\n",
       "      <td>Russia</td>\n",
       "    </tr>\n",
       "    <tr>\n",
       "      <th>39782</th>\n",
       "      <td>135563</td>\n",
       "      <td>Olesya Nikolayevna Zykina</td>\n",
       "      <td>F</td>\n",
       "      <td>23.0</td>\n",
       "      <td>171.0</td>\n",
       "      <td>64.0</td>\n",
       "      <td>Russia</td>\n",
       "      <td>RUS</td>\n",
       "      <td>2004 Summer</td>\n",
       "      <td>2004</td>\n",
       "      <td>Summer</td>\n",
       "      <td>Athina</td>\n",
       "      <td>Athletics</td>\n",
       "      <td>Athletics Women's 4 x 400 metres Relay</td>\n",
       "      <td>Silver</td>\n",
       "      <td>Russia</td>\n",
       "    </tr>\n",
       "  </tbody>\n",
       "</table>\n",
       "<p>39783 rows × 16 columns</p>\n",
       "</div>"
      ],
      "text/plain": [
       "           ID                                 Name Sex   Age  Height  Weight  \\\n",
       "0           4                 Edgar Lindenau Aabye   M  34.0     NaN     NaN   \n",
       "1          15                 Arvo Ossian Aaltonen   M  30.0     NaN     NaN   \n",
       "2          15                 Arvo Ossian Aaltonen   M  30.0     NaN     NaN   \n",
       "3          16             Juhamatti Tapio Aaltonen   M  28.0   184.0    85.0   \n",
       "4          17              Paavo Johannes Aaltonen   M  28.0   175.0    64.0   \n",
       "...       ...                                  ...  ..   ...     ...     ...   \n",
       "39778  135553  Galina Ivanovna Zybina (-Fyodorova)   F  25.0   168.0    80.0   \n",
       "39779  135553  Galina Ivanovna Zybina (-Fyodorova)   F  33.0   168.0    80.0   \n",
       "39780  135554                         Bogusaw Zych   M  28.0   182.0    82.0   \n",
       "39781  135563            Olesya Nikolayevna Zykina   F  19.0   171.0    64.0   \n",
       "39782  135563            Olesya Nikolayevna Zykina   F  23.0   171.0    64.0   \n",
       "\n",
       "                 Team CountryCode        Games  Year  Season       City  \\\n",
       "0      Denmark/Sweden         DEN  1900 Summer  1900  Summer      Paris   \n",
       "1             Finland         FIN  1920 Summer  1920  Summer  Antwerpen   \n",
       "2             Finland         FIN  1920 Summer  1920  Summer  Antwerpen   \n",
       "3             Finland         FIN  2014 Winter  2014  Winter      Sochi   \n",
       "4             Finland         FIN  1948 Summer  1948  Summer     London   \n",
       "...               ...         ...          ...   ...     ...        ...   \n",
       "39778    Soviet Union         URS  1956 Summer  1956  Summer  Melbourne   \n",
       "39779    Soviet Union         URS  1964 Summer  1964  Summer      Tokyo   \n",
       "39780          Poland         POL  1980 Summer  1980  Summer     Moskva   \n",
       "39781          Russia         RUS  2000 Summer  2000  Summer     Sydney   \n",
       "39782          Russia         RUS  2004 Summer  2004  Summer     Athina   \n",
       "\n",
       "            Sport                                   Event   Medal  Country  \n",
       "0      Tug-Of-War             Tug-Of-War Men's Tug-Of-War    Gold  Denmark  \n",
       "1        Swimming  Swimming Men's 200 metres Breaststroke  Bronze  Finland  \n",
       "2        Swimming  Swimming Men's 400 metres Breaststroke  Bronze  Finland  \n",
       "3      Ice Hockey             Ice Hockey Men's Ice Hockey  Bronze  Finland  \n",
       "4      Gymnastics  Gymnastics Men's Individual All-Around  Bronze  Finland  \n",
       "...           ...                                     ...     ...      ...  \n",
       "39778   Athletics              Athletics Women's Shot Put  Silver   Russia  \n",
       "39779   Athletics              Athletics Women's Shot Put  Bronze   Russia  \n",
       "39780     Fencing                Fencing Men's Foil, Team  Bronze   Poland  \n",
       "39781   Athletics  Athletics Women's 4 x 400 metres Relay  Bronze   Russia  \n",
       "39782   Athletics  Athletics Women's 4 x 400 metres Relay  Silver   Russia  \n",
       "\n",
       "[39783 rows x 16 columns]"
      ]
     },
     "execution_count": 16,
     "metadata": {},
     "output_type": "execute_result"
    }
   ],
   "source": [
    "# Rename 'NOC' column to 'CountryCode'\n",
    "# Rename 'region' column to 'Country'\n",
    "olympics.rename(columns = {\n",
    "    'NOC' : 'CountryCode',\n",
    "    'region' : 'Country'\n",
    "})"
   ]
  },
  {
   "cell_type": "code",
   "execution_count": 17,
   "metadata": {
    "id": "BCdBy9DtGp1k"
   },
   "outputs": [
    {
     "data": {
      "text/html": [
       "<div>\n",
       "<style scoped>\n",
       "    .dataframe tbody tr th:only-of-type {\n",
       "        vertical-align: middle;\n",
       "    }\n",
       "\n",
       "    .dataframe tbody tr th {\n",
       "        vertical-align: top;\n",
       "    }\n",
       "\n",
       "    .dataframe thead th {\n",
       "        text-align: right;\n",
       "    }\n",
       "</style>\n",
       "<table border=\"1\" class=\"dataframe\">\n",
       "  <thead>\n",
       "    <tr style=\"text-align: right;\">\n",
       "      <th></th>\n",
       "      <th>ID</th>\n",
       "      <th>Name</th>\n",
       "      <th>Sex</th>\n",
       "      <th>Age</th>\n",
       "      <th>Height</th>\n",
       "      <th>Weight</th>\n",
       "      <th>NOC</th>\n",
       "      <th>Games</th>\n",
       "      <th>Year</th>\n",
       "      <th>Season</th>\n",
       "      <th>City</th>\n",
       "      <th>Sport</th>\n",
       "      <th>Event</th>\n",
       "      <th>Medal</th>\n",
       "      <th>region</th>\n",
       "    </tr>\n",
       "  </thead>\n",
       "  <tbody>\n",
       "    <tr>\n",
       "      <th>0</th>\n",
       "      <td>4</td>\n",
       "      <td>Edgar Lindenau Aabye</td>\n",
       "      <td>M</td>\n",
       "      <td>34.0</td>\n",
       "      <td>NaN</td>\n",
       "      <td>NaN</td>\n",
       "      <td>DEN</td>\n",
       "      <td>1900 Summer</td>\n",
       "      <td>1900</td>\n",
       "      <td>Summer</td>\n",
       "      <td>Paris</td>\n",
       "      <td>Tug-Of-War</td>\n",
       "      <td>Tug-Of-War Men's Tug-Of-War</td>\n",
       "      <td>Gold</td>\n",
       "      <td>Denmark</td>\n",
       "    </tr>\n",
       "    <tr>\n",
       "      <th>1</th>\n",
       "      <td>15</td>\n",
       "      <td>Arvo Ossian Aaltonen</td>\n",
       "      <td>M</td>\n",
       "      <td>30.0</td>\n",
       "      <td>NaN</td>\n",
       "      <td>NaN</td>\n",
       "      <td>FIN</td>\n",
       "      <td>1920 Summer</td>\n",
       "      <td>1920</td>\n",
       "      <td>Summer</td>\n",
       "      <td>Antwerpen</td>\n",
       "      <td>Swimming</td>\n",
       "      <td>Swimming Men's 200 metres Breaststroke</td>\n",
       "      <td>Bronze</td>\n",
       "      <td>Finland</td>\n",
       "    </tr>\n",
       "    <tr>\n",
       "      <th>2</th>\n",
       "      <td>15</td>\n",
       "      <td>Arvo Ossian Aaltonen</td>\n",
       "      <td>M</td>\n",
       "      <td>30.0</td>\n",
       "      <td>NaN</td>\n",
       "      <td>NaN</td>\n",
       "      <td>FIN</td>\n",
       "      <td>1920 Summer</td>\n",
       "      <td>1920</td>\n",
       "      <td>Summer</td>\n",
       "      <td>Antwerpen</td>\n",
       "      <td>Swimming</td>\n",
       "      <td>Swimming Men's 400 metres Breaststroke</td>\n",
       "      <td>Bronze</td>\n",
       "      <td>Finland</td>\n",
       "    </tr>\n",
       "    <tr>\n",
       "      <th>3</th>\n",
       "      <td>16</td>\n",
       "      <td>Juhamatti Tapio Aaltonen</td>\n",
       "      <td>M</td>\n",
       "      <td>28.0</td>\n",
       "      <td>184.0</td>\n",
       "      <td>85.0</td>\n",
       "      <td>FIN</td>\n",
       "      <td>2014 Winter</td>\n",
       "      <td>2014</td>\n",
       "      <td>Winter</td>\n",
       "      <td>Sochi</td>\n",
       "      <td>Ice Hockey</td>\n",
       "      <td>Ice Hockey Men's Ice Hockey</td>\n",
       "      <td>Bronze</td>\n",
       "      <td>Finland</td>\n",
       "    </tr>\n",
       "    <tr>\n",
       "      <th>4</th>\n",
       "      <td>17</td>\n",
       "      <td>Paavo Johannes Aaltonen</td>\n",
       "      <td>M</td>\n",
       "      <td>28.0</td>\n",
       "      <td>175.0</td>\n",
       "      <td>64.0</td>\n",
       "      <td>FIN</td>\n",
       "      <td>1948 Summer</td>\n",
       "      <td>1948</td>\n",
       "      <td>Summer</td>\n",
       "      <td>London</td>\n",
       "      <td>Gymnastics</td>\n",
       "      <td>Gymnastics Men's Individual All-Around</td>\n",
       "      <td>Bronze</td>\n",
       "      <td>Finland</td>\n",
       "    </tr>\n",
       "    <tr>\n",
       "      <th>...</th>\n",
       "      <td>...</td>\n",
       "      <td>...</td>\n",
       "      <td>...</td>\n",
       "      <td>...</td>\n",
       "      <td>...</td>\n",
       "      <td>...</td>\n",
       "      <td>...</td>\n",
       "      <td>...</td>\n",
       "      <td>...</td>\n",
       "      <td>...</td>\n",
       "      <td>...</td>\n",
       "      <td>...</td>\n",
       "      <td>...</td>\n",
       "      <td>...</td>\n",
       "      <td>...</td>\n",
       "    </tr>\n",
       "    <tr>\n",
       "      <th>39778</th>\n",
       "      <td>135553</td>\n",
       "      <td>Galina Ivanovna Zybina (-Fyodorova)</td>\n",
       "      <td>F</td>\n",
       "      <td>25.0</td>\n",
       "      <td>168.0</td>\n",
       "      <td>80.0</td>\n",
       "      <td>URS</td>\n",
       "      <td>1956 Summer</td>\n",
       "      <td>1956</td>\n",
       "      <td>Summer</td>\n",
       "      <td>Melbourne</td>\n",
       "      <td>Athletics</td>\n",
       "      <td>Athletics Women's Shot Put</td>\n",
       "      <td>Silver</td>\n",
       "      <td>Russia</td>\n",
       "    </tr>\n",
       "    <tr>\n",
       "      <th>39779</th>\n",
       "      <td>135553</td>\n",
       "      <td>Galina Ivanovna Zybina (-Fyodorova)</td>\n",
       "      <td>F</td>\n",
       "      <td>33.0</td>\n",
       "      <td>168.0</td>\n",
       "      <td>80.0</td>\n",
       "      <td>URS</td>\n",
       "      <td>1964 Summer</td>\n",
       "      <td>1964</td>\n",
       "      <td>Summer</td>\n",
       "      <td>Tokyo</td>\n",
       "      <td>Athletics</td>\n",
       "      <td>Athletics Women's Shot Put</td>\n",
       "      <td>Bronze</td>\n",
       "      <td>Russia</td>\n",
       "    </tr>\n",
       "    <tr>\n",
       "      <th>39780</th>\n",
       "      <td>135554</td>\n",
       "      <td>Bogusaw Zych</td>\n",
       "      <td>M</td>\n",
       "      <td>28.0</td>\n",
       "      <td>182.0</td>\n",
       "      <td>82.0</td>\n",
       "      <td>POL</td>\n",
       "      <td>1980 Summer</td>\n",
       "      <td>1980</td>\n",
       "      <td>Summer</td>\n",
       "      <td>Moskva</td>\n",
       "      <td>Fencing</td>\n",
       "      <td>Fencing Men's Foil, Team</td>\n",
       "      <td>Bronze</td>\n",
       "      <td>Poland</td>\n",
       "    </tr>\n",
       "    <tr>\n",
       "      <th>39781</th>\n",
       "      <td>135563</td>\n",
       "      <td>Olesya Nikolayevna Zykina</td>\n",
       "      <td>F</td>\n",
       "      <td>19.0</td>\n",
       "      <td>171.0</td>\n",
       "      <td>64.0</td>\n",
       "      <td>RUS</td>\n",
       "      <td>2000 Summer</td>\n",
       "      <td>2000</td>\n",
       "      <td>Summer</td>\n",
       "      <td>Sydney</td>\n",
       "      <td>Athletics</td>\n",
       "      <td>Athletics Women's 4 x 400 metres Relay</td>\n",
       "      <td>Bronze</td>\n",
       "      <td>Russia</td>\n",
       "    </tr>\n",
       "    <tr>\n",
       "      <th>39782</th>\n",
       "      <td>135563</td>\n",
       "      <td>Olesya Nikolayevna Zykina</td>\n",
       "      <td>F</td>\n",
       "      <td>23.0</td>\n",
       "      <td>171.0</td>\n",
       "      <td>64.0</td>\n",
       "      <td>RUS</td>\n",
       "      <td>2004 Summer</td>\n",
       "      <td>2004</td>\n",
       "      <td>Summer</td>\n",
       "      <td>Athina</td>\n",
       "      <td>Athletics</td>\n",
       "      <td>Athletics Women's 4 x 400 metres Relay</td>\n",
       "      <td>Silver</td>\n",
       "      <td>Russia</td>\n",
       "    </tr>\n",
       "  </tbody>\n",
       "</table>\n",
       "<p>39783 rows × 15 columns</p>\n",
       "</div>"
      ],
      "text/plain": [
       "           ID                                 Name Sex   Age  Height  Weight  \\\n",
       "0           4                 Edgar Lindenau Aabye   M  34.0     NaN     NaN   \n",
       "1          15                 Arvo Ossian Aaltonen   M  30.0     NaN     NaN   \n",
       "2          15                 Arvo Ossian Aaltonen   M  30.0     NaN     NaN   \n",
       "3          16             Juhamatti Tapio Aaltonen   M  28.0   184.0    85.0   \n",
       "4          17              Paavo Johannes Aaltonen   M  28.0   175.0    64.0   \n",
       "...       ...                                  ...  ..   ...     ...     ...   \n",
       "39778  135553  Galina Ivanovna Zybina (-Fyodorova)   F  25.0   168.0    80.0   \n",
       "39779  135553  Galina Ivanovna Zybina (-Fyodorova)   F  33.0   168.0    80.0   \n",
       "39780  135554                         Bogusaw Zych   M  28.0   182.0    82.0   \n",
       "39781  135563            Olesya Nikolayevna Zykina   F  19.0   171.0    64.0   \n",
       "39782  135563            Olesya Nikolayevna Zykina   F  23.0   171.0    64.0   \n",
       "\n",
       "       NOC        Games  Year  Season       City       Sport  \\\n",
       "0      DEN  1900 Summer  1900  Summer      Paris  Tug-Of-War   \n",
       "1      FIN  1920 Summer  1920  Summer  Antwerpen    Swimming   \n",
       "2      FIN  1920 Summer  1920  Summer  Antwerpen    Swimming   \n",
       "3      FIN  2014 Winter  2014  Winter      Sochi  Ice Hockey   \n",
       "4      FIN  1948 Summer  1948  Summer     London  Gymnastics   \n",
       "...    ...          ...   ...     ...        ...         ...   \n",
       "39778  URS  1956 Summer  1956  Summer  Melbourne   Athletics   \n",
       "39779  URS  1964 Summer  1964  Summer      Tokyo   Athletics   \n",
       "39780  POL  1980 Summer  1980  Summer     Moskva     Fencing   \n",
       "39781  RUS  2000 Summer  2000  Summer     Sydney   Athletics   \n",
       "39782  RUS  2004 Summer  2004  Summer     Athina   Athletics   \n",
       "\n",
       "                                        Event   Medal   region  \n",
       "0                 Tug-Of-War Men's Tug-Of-War    Gold  Denmark  \n",
       "1      Swimming Men's 200 metres Breaststroke  Bronze  Finland  \n",
       "2      Swimming Men's 400 metres Breaststroke  Bronze  Finland  \n",
       "3                 Ice Hockey Men's Ice Hockey  Bronze  Finland  \n",
       "4      Gymnastics Men's Individual All-Around  Bronze  Finland  \n",
       "...                                       ...     ...      ...  \n",
       "39778              Athletics Women's Shot Put  Silver   Russia  \n",
       "39779              Athletics Women's Shot Put  Bronze   Russia  \n",
       "39780                Fencing Men's Foil, Team  Bronze   Poland  \n",
       "39781  Athletics Women's 4 x 400 metres Relay  Bronze   Russia  \n",
       "39782  Athletics Women's 4 x 400 metres Relay  Silver   Russia  \n",
       "\n",
       "[39783 rows x 15 columns]"
      ]
     },
     "execution_count": 17,
     "metadata": {},
     "output_type": "execute_result"
    }
   ],
   "source": [
    "# Remove the 'Team' column\n",
    "olympics.drop(columns=['Team'])"
   ]
  },
  {
   "cell_type": "markdown",
   "metadata": {
    "id": "5Zb5hLm2Gp1k"
   },
   "source": [
    "# Task 3: Data Analysis\n",
    "\n",
    "![](https://media.giphy.com/media/MT5UUV1d4CXE2A37Dg/giphy.gif)"
   ]
  },
  {
   "cell_type": "code",
   "execution_count": 20,
   "metadata": {
    "id": "EjeEAadQGp1l"
   },
   "outputs": [
    {
     "data": {
      "text/plain": [
       "10.0"
      ]
     },
     "execution_count": 20,
     "metadata": {},
     "output_type": "execute_result"
    }
   ],
   "source": [
    "# What is the youngest age of an Olympics medalist?\n",
    "olympics.Age.min()"
   ]
  },
  {
   "cell_type": "code",
   "execution_count": 21,
   "metadata": {
    "id": "BFafWEgJGp1l"
   },
   "outputs": [
    {
     "data": {
      "text/plain": [
       "73.0"
      ]
     },
     "execution_count": 21,
     "metadata": {},
     "output_type": "execute_result"
    }
   ],
   "source": [
    "# What is the oldest age of an Olympics medalist?\n",
    "olympics.Age.max()"
   ]
  },
  {
   "cell_type": "code",
   "execution_count": 24,
   "metadata": {
    "id": "X0QbfippGp1l"
   },
   "outputs": [
    {
     "data": {
      "text/plain": [
       "Gold      13372\n",
       "Bronze    13295\n",
       "Silver    13116\n",
       "Name: Medal, dtype: int64"
      ]
     },
     "execution_count": 24,
     "metadata": {},
     "output_type": "execute_result"
    }
   ],
   "source": [
    "# How many of each medal were awarded?\n",
    "olympics['Medal'].value_counts()"
   ]
  },
  {
   "cell_type": "code",
   "execution_count": 27,
   "metadata": {
    "id": "aLKoJmb7Gp1m"
   },
   "outputs": [
    {
     "data": {
      "text/plain": [
       "756"
      ]
     },
     "execution_count": 27,
     "metadata": {},
     "output_type": "execute_result"
    }
   ],
   "source": [
    "# How many events are there?\n",
    "olympics.Event.nunique()"
   ]
  },
  {
   "cell_type": "code",
   "execution_count": 28,
   "metadata": {
    "id": "O0BoABdUGp1m"
   },
   "outputs": [
    {
     "data": {
      "text/plain": [
       "66"
      ]
     },
     "execution_count": 28,
     "metadata": {},
     "output_type": "execute_result"
    }
   ],
   "source": [
    "# How many sports are there?\n",
    "olympics.Sport.nunique()"
   ]
  },
  {
   "cell_type": "code",
   "execution_count": 31,
   "metadata": {
    "id": "3bCZjivrGp1m"
   },
   "outputs": [
    {
     "data": {
      "text/plain": [
       "25.925174771452717"
      ]
     },
     "execution_count": 31,
     "metadata": {},
     "output_type": "execute_result"
    }
   ],
   "source": [
    "# What is the average age of an Olympics medalist?\n",
    "olympics.Age.mean()"
   ]
  },
  {
   "cell_type": "code",
   "execution_count": 34,
   "metadata": {
    "id": "zNpTSGtpGp1m"
   },
   "outputs": [
    {
     "data": {
      "text/plain": [
       "0    Art Competitions\n",
       "dtype: object"
      ]
     },
     "execution_count": 34,
     "metadata": {},
     "output_type": "execute_result"
    }
   ],
   "source": [
    "# Among the 10 oldest medalists, what are the most common sports?\n",
    "olympics.sort_values(['Age'], ascending=False).head(10).Sport.mode()"
   ]
  },
  {
   "cell_type": "code",
   "execution_count": 38,
   "metadata": {
    "id": "EDznIem9Gp1n"
   },
   "outputs": [
    {
     "data": {
      "text/plain": [
       "USA    5637\n",
       "URS    2503\n",
       "GER    2165\n",
       "GBR    2068\n",
       "FRA    1777\n",
       "ITA    1637\n",
       "SWE    1536\n",
       "CAN    1352\n",
       "AUS    1320\n",
       "RUS    1165\n",
       "Name: NOC, dtype: int64"
      ]
     },
     "execution_count": 38,
     "metadata": {},
     "output_type": "execute_result"
    }
   ],
   "source": [
    "# What are the 10 winningest countries in total medal count?\n",
    "olympics['NOC'].value_counts().head(10)"
   ]
  },
  {
   "cell_type": "code",
   "execution_count": 46,
   "metadata": {
    "id": "EHZWAnPTGp1n"
   },
   "outputs": [
    {
     "ename": "AttributeError",
     "evalue": "'str' object has no attribute 'value_counts'",
     "output_type": "error",
     "traceback": [
      "\u001b[0;31m---------------------------------------------------------------------------\u001b[0m",
      "\u001b[0;31mAttributeError\u001b[0m                            Traceback (most recent call last)",
      "Cell \u001b[0;32mIn [48], line 2\u001b[0m\n\u001b[1;32m      1\u001b[0m \u001b[38;5;66;03m# How many medals have been awarded in the sport of trampolining?\u001b[39;00m\n\u001b[0;32m----> 2\u001b[0m olympics\u001b[38;5;241m.\u001b[39mSport\u001b[38;5;241m==\u001b[39m\u001b[38;5;124;43m\"\u001b[39;49m\u001b[38;5;124;43mTrampolining\u001b[39;49m\u001b[38;5;124;43m\"\u001b[39;49m\u001b[38;5;241;43m.\u001b[39;49m\u001b[43mvalue_counts\u001b[49m()\n",
      "\u001b[0;31mAttributeError\u001b[0m: 'str' object has no attribute 'value_counts'"
     ]
    }
   ],
   "source": [
    "# How many medals have been awarded in the sport of trampolining?\n",
    "olympics.Sport.value_counts()"
   ]
  },
  {
   "cell_type": "markdown",
   "metadata": {
    "id": "ZCYOlu_rGp1n"
   },
   "source": [
    "# Level Up\n",
    "\n",
    "![](https://media.giphy.com/media/YYaapBJ7UAZp9DJS7o/giphy.gif)\n",
    "\n",
    "Want to Level Up your practice? We love to see it! Take a crack at some of these extra challenges, including visualizing some of this here data."
   ]
  },
  {
   "cell_type": "code",
   "execution_count": null,
   "metadata": {
    "id": "lMXzRdowGp1n"
   },
   "outputs": [],
   "source": [
    "# How many gold medals were awarded to the United States?\n"
   ]
  },
  {
   "cell_type": "code",
   "execution_count": null,
   "metadata": {
    "id": "qw0xCEBcGp1n"
   },
   "outputs": [],
   "source": [
    "# List the Olympics in dataset, starting with the most recent\n"
   ]
  },
  {
   "cell_type": "code",
   "execution_count": null,
   "metadata": {
    "id": "F06h7LoZGp1o"
   },
   "outputs": [],
   "source": [
    "# Average medalist height in the most recent Winter Olympics\n"
   ]
  },
  {
   "cell_type": "code",
   "execution_count": null,
   "metadata": {
    "id": "JM4p-KcwX4SN"
   },
   "outputs": [],
   "source": [
    "# Average medalist weight in the most recent Winter Olympics\n"
   ]
  },
  {
   "cell_type": "code",
   "execution_count": null,
   "metadata": {
    "id": "gp80aZ4MGp1o"
   },
   "outputs": [],
   "source": [
    "# Average medalist height in the most recent Summer Olympics\n"
   ]
  },
  {
   "cell_type": "code",
   "execution_count": null,
   "metadata": {
    "id": "FhaUwoiCYONm"
   },
   "outputs": [],
   "source": [
    "# Average medalist weight in the most recent Summer Olympics\n"
   ]
  },
  {
   "cell_type": "code",
   "execution_count": null,
   "metadata": {
    "id": "fk958EO5Gp1o"
   },
   "outputs": [],
   "source": [
    "# Import plotly express library\n"
   ]
  },
  {
   "cell_type": "code",
   "execution_count": null,
   "metadata": {
    "id": "_cCbpCemGp1o"
   },
   "outputs": [],
   "source": [
    "# Assign top 10 winningest countries table to a variable\n",
    "# You did this in task 3\n"
   ]
  },
  {
   "cell_type": "code",
   "execution_count": null,
   "metadata": {
    "id": "GKJw99hAGp1o"
   },
   "outputs": [],
   "source": [
    "# Visualize the table as a bar chart\n"
   ]
  },
  {
   "cell_type": "code",
   "execution_count": null,
   "metadata": {
    "id": "g4-melLaGp1p"
   },
   "outputs": [],
   "source": []
  }
 ],
 "metadata": {
  "colab": {
   "provenance": []
  },
  "kernelspec": {
   "display_name": "Python 3 (ipykernel)",
   "language": "python",
   "name": "python3"
  },
  "language_info": {
   "codemirror_mode": {
    "name": "ipython",
    "version": 3
   },
   "file_extension": ".py",
   "mimetype": "text/x-python",
   "name": "python",
   "nbconvert_exporter": "python",
   "pygments_lexer": "ipython3",
   "version": "3.10.6"
  },
  "nteract": {
   "version": "0.28.0"
  }
 },
 "nbformat": 4,
 "nbformat_minor": 4
}
